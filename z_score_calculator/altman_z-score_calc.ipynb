{
 "cells": [
  {
   "cell_type": "code",
   "execution_count": null,
   "id": "6a0c1c9e-8cdc-4dbe-b0a1-5d4167f12095",
   "metadata": {},
   "outputs": [],
   "source": [
    "# Altman Z-Score Calculator \n",
    "\n",
    "# Formula to be used:\n",
    "\n",
    "# Z = 1.2X1 + 1.4X2 + 3.3X3 + 0.6X4 + 1.0X5\n",
    "\n",
    "# where \n",
    "\n",
    "# X1 = Working Capital / Total Assets. Measures liquid assets in relation to the size of the company.\n",
    "# X2 = Retained Earnings / Total Assets. Measures profitability that reflects the company's age and earning power.\n",
    "# X3 = Earnings Before Interest and Taxes / Total Assets. Measures operating efficiency apart from tax and leveraging factors. It recognizes operating earnings as being important to long-term viability.\n",
    "# X4 = Market Value of Equity / Book Value of Total Liabilities. Adds market dimension that can show up security price fluctuation as a possible red flag.\n",
    "# X5 = Sales / Total Assets. Standard measure for total asset turnover (varies greatly from industry to industry).\n"
   ]
  },
  {
   "cell_type": "code",
   "execution_count": null,
   "id": "cfc40177-fc0b-496c-871b-5b50e4b3dd6e",
   "metadata": {},
   "outputs": [],
   "source": [
    "# Data pull from downloaded csv\n"
   ]
  },
  {
   "cell_type": "code",
   "execution_count": null,
   "id": "e5e1db2d-a76f-4507-9d6f-ce03367ddf57",
   "metadata": {},
   "outputs": [],
   "source": [
    "# Def function\n"
   ]
  },
  {
   "cell_type": "code",
   "execution_count": null,
   "id": "35a6346d-a01e-431c-92dd-478e2f42bab3",
   "metadata": {},
   "outputs": [],
   "source": []
  },
  {
   "cell_type": "code",
   "execution_count": null,
   "id": "26cadc0e-1449-4330-8d55-d475632cbe40",
   "metadata": {},
   "outputs": [],
   "source": []
  },
  {
   "cell_type": "code",
   "execution_count": null,
   "id": "572ecd67-a3d1-4524-a99b-89cf332dc57b",
   "metadata": {},
   "outputs": [],
   "source": []
  },
  {
   "cell_type": "code",
   "execution_count": null,
   "id": "a5de9684-bc8a-4b1a-9e50-3d304f4333a6",
   "metadata": {},
   "outputs": [],
   "source": []
  },
  {
   "cell_type": "code",
   "execution_count": null,
   "id": "08987fbd-7509-44db-b03a-5ba8779050c1",
   "metadata": {},
   "outputs": [],
   "source": []
  },
  {
   "cell_type": "code",
   "execution_count": null,
   "id": "a21f5b17-bf53-4fdf-83eb-69e3c9eab151",
   "metadata": {},
   "outputs": [],
   "source": []
  },
  {
   "cell_type": "code",
   "execution_count": null,
   "id": "1fe6c0bf-2bbe-481c-91a1-9f84c3f231c1",
   "metadata": {},
   "outputs": [],
   "source": []
  },
  {
   "cell_type": "code",
   "execution_count": null,
   "id": "da761dfd-76ec-4dcf-a3af-e966e0981e5a",
   "metadata": {},
   "outputs": [],
   "source": []
  }
 ],
 "metadata": {
  "kernelspec": {
   "display_name": "Python 3 (ipykernel)",
   "language": "python",
   "name": "python3"
  },
  "language_info": {
   "codemirror_mode": {
    "name": "ipython",
    "version": 3
   },
   "file_extension": ".py",
   "mimetype": "text/x-python",
   "name": "python",
   "nbconvert_exporter": "python",
   "pygments_lexer": "ipython3",
   "version": "3.7.11"
  }
 },
 "nbformat": 4,
 "nbformat_minor": 5
}
